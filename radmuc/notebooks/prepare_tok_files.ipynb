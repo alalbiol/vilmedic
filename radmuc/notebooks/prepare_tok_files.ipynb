{
 "cells": [
  {
   "cell_type": "code",
   "execution_count": 6,
   "metadata": {},
   "outputs": [],
   "source": [
    "import pathlib\n",
    "from tqdm import tqdm\n",
    "import json\n",
    "\n",
    "data_folder = pathlib.Path(\"/opt/hroc/data/ait_destination_jpg\")\n",
    "\n"
   ]
  },
  {
   "cell_type": "code",
   "execution_count": 3,
   "metadata": {},
   "outputs": [
    {
     "name": "stdout",
     "output_type": "stream",
     "text": [
      "Number of studies:  727\n"
     ]
    }
   ],
   "source": [
    "#find all json files in the data_folder recursively using pathlib\n",
    "studies = list(data_folder.rglob('*.json'))    \n",
    "print(\"Number of studies: \", len(studies))"
   ]
  },
  {
   "cell_type": "code",
   "execution_count": 16,
   "metadata": {},
   "outputs": [
    {
     "name": "stderr",
     "output_type": "stream",
     "text": [
      "100%|██████████| 727/727 [00:00<00:00, 39973.51it/s]\n"
     ]
    }
   ],
   "source": [
    "findings_key = \"findings_en_gpt\"\n",
    "\n",
    "id_file = data_folder / \"radmuc.ids.tok\"\n",
    "findings_file = data_folder / \"radmuc.findings.tok\"\n",
    "images_file = data_folder / \"radmuc.image.tok\"\n",
    "\n",
    "\n",
    "#open the files for writing\n",
    "id_file = open(id_file, \"w\")\n",
    "findings_file = open(findings_file, \"w\")\n",
    "images_file = open(images_file, \"w\")\n",
    "\n",
    "\n",
    "for study in tqdm(studies):\n",
    "    study_name = study.stem\n",
    "    patient = study.parent.stem\n",
    "    id = f\"{patient}/{study_name}\"\n",
    "    #print(id)\n",
    "    id_file.write(id + \"\\n\")\n",
    "\n",
    "\n",
    "    with open(study, \"r\") as f:\n",
    "        study_json = json.load(f)\n",
    "    \n",
    "    images_file.write(\",\".join(study_json['images']) + \"\\n\")\n",
    "    findings_file.write(study_json[findings_key] + \"\\n\")\n",
    "    \n",
    "    \n",
    "\n",
    "#closes the files\n",
    "id_file.close()\n",
    "findings_file.close()\n",
    "images_file.close()"
   ]
  },
  {
   "cell_type": "code",
   "execution_count": null,
   "metadata": {},
   "outputs": [],
   "source": []
  }
 ],
 "metadata": {
  "kernelspec": {
   "display_name": "openai",
   "language": "python",
   "name": "python3"
  },
  "language_info": {
   "codemirror_mode": {
    "name": "ipython",
    "version": 3
   },
   "file_extension": ".py",
   "mimetype": "text/x-python",
   "name": "python",
   "nbconvert_exporter": "python",
   "pygments_lexer": "ipython3",
   "version": "3.9.16"
  },
  "orig_nbformat": 4
 },
 "nbformat": 4,
 "nbformat_minor": 2
}
