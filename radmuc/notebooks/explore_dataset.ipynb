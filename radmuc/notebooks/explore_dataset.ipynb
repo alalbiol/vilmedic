{
 "cells": [
  {
   "cell_type": "code",
   "execution_count": 2,
   "metadata": {},
   "outputs": [],
   "source": [
    "import glob\n",
    "import pathlib\n",
    "import json\n",
    "from PIL import Image"
   ]
  },
  {
   "cell_type": "code",
   "execution_count": 3,
   "metadata": {},
   "outputs": [],
   "source": [
    "data_folder = pathlib.Path('/opt/hroc/data/ait_destination')"
   ]
  },
  {
   "cell_type": "code",
   "execution_count": 4,
   "metadata": {},
   "outputs": [
    {
     "name": "stdout",
     "output_type": "stream",
     "text": [
      "Number of patient folders:  552\n"
     ]
    }
   ],
   "source": [
    "#list all patient folders in the data folder using pathlib\n",
    "patient_folders = [x for x in data_folder.iterdir() if x.is_dir()]\n",
    "print(\"Number of patient folders: \", len(patient_folders))\n"
   ]
  },
  {
   "cell_type": "code",
   "execution_count": 5,
   "metadata": {},
   "outputs": [
    {
     "name": "stdout",
     "output_type": "stream",
     "text": [
      "Number of studies:  727\n"
     ]
    }
   ],
   "source": [
    "#find all json files in the data_folder recursively using pathlib\n",
    "studies = list(data_folder.rglob('*.json'))    \n",
    "print(\"Number of studies: \", len(studies))\n"
   ]
  },
  {
   "cell_type": "code",
   "execution_count": 10,
   "metadata": {},
   "outputs": [
    {
     "data": {
      "text/plain": [
       "563"
      ]
     },
     "execution_count": 10,
     "metadata": {},
     "output_type": "execute_result"
    }
   ],
   "source": [
    "study_json = studies[0]\n",
    "# read josn file\n",
    "\n",
    "def convert_image2jpg(image_path):\n",
    "    image = Image.open(image_path)\n",
    "    #print image size using PIL\n",
    "    # print(image.size)\n",
    "    # print(\"image max = \", image.getextrema())\n",
    "    #change extension to jpg\n",
    "    image_path = pathlib.Path((str(image_path).replace(\"ait_destination\", \"ait_destination_jpg\"))).with_suffix('.jpg')\n",
    "    \n",
    "    if not image_path.parent.exists():\n",
    "        image_path.parent.mkdir(parents=True)\n",
    "    #save image as jpg\n",
    "    image.save(image_path)\n",
    "    \n",
    "    \n",
    "    \n",
    "    \n",
    "\n",
    "def lenght_study(study_json):\n",
    "    with open(study_json) as f:\n",
    "        data = json.load(f)\n",
    "        # print(study_json)\n",
    "        # print(f\"{data.keys()}\")\n",
    "        # print(data['findings_de'])\n",
    "        # print(data['images'])\n",
    "        \n",
    "        image_folder = study_json.parent\n",
    "        image_paths = [image_folder / x  for x in data['images']]\n",
    "        \n",
    "        # for image_path in image_paths:\n",
    "        #     convert_image2jpg(image_path)\n",
    "        # # print(study_json.parent)\n",
    "        return len(data['findings_en'])\n",
    "\n",
    "process_study(study_json)"
   ]
  },
  {
   "cell_type": "code",
   "execution_count": 13,
   "metadata": {},
   "outputs": [
    {
     "name": "stdout",
     "output_type": "stream",
     "text": [
      "total_lenght =  255086\n",
      "approx tokens =  364408.5714285715\n",
      "approx price =  72.8817142857143\n"
     ]
    }
   ],
   "source": [
    "total_length = 0\n",
    "for study_json in studies:\n",
    "    total_length += lenght_study(study_json)\n",
    "    \n",
    "print(\"total_lenght = \", total_length)\n",
    "\n",
    "print(\"approx tokens = \", total_length /0.7)\n",
    "print(\"approx price = \", total_length /0.7 * 0.0002)"
   ]
  },
  {
   "cell_type": "code",
   "execution_count": null,
   "metadata": {},
   "outputs": [],
   "source": []
  }
 ],
 "metadata": {
  "kernelspec": {
   "display_name": "vilmedic",
   "language": "python",
   "name": "python3"
  },
  "language_info": {
   "codemirror_mode": {
    "name": "ipython",
    "version": 3
   },
   "file_extension": ".py",
   "mimetype": "text/x-python",
   "name": "python",
   "nbconvert_exporter": "python",
   "pygments_lexer": "ipython3",
   "version": "3.8.16"
  },
  "orig_nbformat": 4,
  "vscode": {
   "interpreter": {
    "hash": "b8022a356298b1fffd59ca5265e3d71323a7b4ddce82653f2529a0bcd8c0d8ed"
   }
  }
 },
 "nbformat": 4,
 "nbformat_minor": 2
}
